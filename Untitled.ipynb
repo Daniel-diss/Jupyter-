{
 "cells": [
  {
   "cell_type": "code",
   "execution_count": 13,
   "id": "785ec53b-3da5-4acc-9dee-145d4d5cef98",
   "metadata": {},
   "outputs": [
    {
     "name": "stdin",
     "output_type": "stream",
     "text": [
      "horas trabajadas por semana:  40\n",
      "pago X hora:  25\n"
     ]
    },
    {
     "name": "stdout",
     "output_type": "stream",
     "text": [
      "Sueldo bruto Semanal: L 1000\n",
      "Sueldo bruto Mensual: L 4000\n",
      "Deduccion RAP-FOSOVI 1.5% Semanal: L 15.0\n",
      "Deduccion RAP-FOSOVI 1.5% Mensual: L 60.0\n",
      "Deduccion sindicatos 1% Semanal: L 10.0\n",
      "Deduccion sindicatos 1% Mensual: L 40.0\n",
      "Salario Neto Semanal: L 975.0\n",
      "Salario Neto Mensual: L 3900.0\n"
     ]
    }
   ],
   "source": [
    "horas = int(input(\"horas trabajadas por semana: \"))\n",
    "pago = int(input(\"pago X hora: \"))\n",
    "salarioS = horas * pago\n",
    "salarioM = horas * pago * 4\n",
    "dedRap = salarioS * 0.015\n",
    "dedRapM = salarioS * 0.015 * 4\n",
    "dedSinS = salarioS * 0.01\n",
    "dedSinM = salarioS * 0.01 * 4\n",
    "print(\"Sueldo bruto Semanal: L\", salarioS)\n",
    "print(\"Sueldo bruto Mensual: L\", salarioM)\n",
    "print(\"Deduccion RAP-FOSOVI 1.5% Semanal: L\", dedRap)\n",
    "print(\"Deduccion RAP-FOSOVI 1.5% Mensual: L\", dedRapM)\n",
    "print(\"Deduccion sindicatos 1% Semanal: L\", dedSinS)\n",
    "print(\"Deduccion sindicatos 1% Mensual: L\", dedSinM)\n",
    "print(\"Salario Neto Semanal: L\", (salarioS-dedRap-dedSinS))\n",
    "print(\"Salario Neto Mensual: L\", (salarioM-dedRapM-dedSinM))"
   ]
  },
  {
   "cell_type": "code",
   "execution_count": 14,
   "id": "2dffd98d-cae9-4e7a-8edc-017c3b775af7",
   "metadata": {},
   "outputs": [
    {
     "data": {
      "text/plain": [
       "'hola mundo'"
      ]
     },
     "execution_count": 14,
     "metadata": {},
     "output_type": "execute_result"
    }
   ],
   "source": [
    "'hola mundo'"
   ]
  },
  {
   "cell_type": "code",
   "execution_count": 15,
   "id": "13d68c67-8338-476e-8fa5-d0ed2a093d4f",
   "metadata": {},
   "outputs": [
    {
     "data": {
      "text/plain": [
       "'hola mundo'"
      ]
     },
     "execution_count": 15,
     "metadata": {},
     "output_type": "execute_result"
    }
   ],
   "source": [
    "\"hola mundo\""
   ]
  },
  {
   "cell_type": "code",
   "execution_count": 16,
   "id": "06c34b2e-cce1-4d1c-add7-a4068945a3cb",
   "metadata": {},
   "outputs": [
    {
     "data": {
      "text/plain": [
       "'este texto incluye mas \" \"'"
      ]
     },
     "execution_count": 16,
     "metadata": {},
     "output_type": "execute_result"
    }
   ],
   "source": [
    "'este texto incluye mas \" \"'"
   ]
  },
  {
   "cell_type": "code",
   "execution_count": 18,
   "id": "e7405920-bafe-4d01-a3a7-b101161cc38b",
   "metadata": {},
   "outputs": [
    {
     "data": {
      "text/plain": [
       "\"Esta 'palabra' se encuentra escrita entre comillas simples\""
      ]
     },
     "execution_count": 18,
     "metadata": {},
     "output_type": "execute_result"
    }
   ],
   "source": [
    "\"Esta 'palabra' se encuentra escrita entre comillas simples\""
   ]
  },
  {
   "cell_type": "code",
   "execution_count": 21,
   "id": "5a800e08-147e-4524-be8d-92c3adea1776",
   "metadata": {},
   "outputs": [
    {
     "data": {
      "text/plain": [
       "\"Esta 'palabra' se encuentra escr/ta entre comillas dobles\""
      ]
     },
     "execution_count": 21,
     "metadata": {},
     "output_type": "execute_result"
    }
   ],
   "source": [
    "\"Esta 'palabra\\' se encuentra escr/ta entre comillas dobles\""
   ]
  },
  {
   "cell_type": "code",
   "execution_count": 22,
   "id": "19646ffa-5fa3-4a10-b694-9a9931b37e3e",
   "metadata": {},
   "outputs": [
    {
     "data": {
      "text/plain": [
       "'Esta \"palabra\" se encuentra escr/ta entre comillas dobles'"
      ]
     },
     "execution_count": 22,
     "metadata": {},
     "output_type": "execute_result"
    }
   ],
   "source": [
    "\"Esta \\\"palabra\\\" se encuentra escr/ta entre comillas dobles\""
   ]
  },
  {
   "cell_type": "code",
   "execution_count": 23,
   "id": "74425eba-ad0d-4f06-bfcd-6705635801a8",
   "metadata": {},
   "outputs": [
    {
     "data": {
      "text/plain": [
       "\"Esta 'palabra' se encuentra escr/ta entre comillas dobles\""
      ]
     },
     "execution_count": 23,
     "metadata": {},
     "output_type": "execute_result"
    }
   ],
   "source": [
    "'Esta \\'palabra\\' se encuentra escr/ta entre comillas dobles'"
   ]
  },
  {
   "cell_type": "code",
   "execution_count": 24,
   "id": "f8d177f9-7519-426d-bf3c-8103234948ed",
   "metadata": {},
   "outputs": [
    {
     "name": "stdout",
     "output_type": "stream",
     "text": [
      "un texto\tuna tabulacion\n"
     ]
    }
   ],
   "source": [
    "print(\"un texto\\tuna tabulacion\")"
   ]
  },
  {
   "cell_type": "code",
   "execution_count": 25,
   "id": "960926d5-a61c-4c97-a106-cd46baf65945",
   "metadata": {},
   "outputs": [
    {
     "name": "stdout",
     "output_type": "stream",
     "text": [
      "un texto\n",
      "una nueva linea\n"
     ]
    }
   ],
   "source": [
    "print(\"un texto\\nuna nueva linea\")"
   ]
  },
  {
   "cell_type": "code",
   "execution_count": 26,
   "id": "241f6f29-5865-402e-a674-9156f67c05d5",
   "metadata": {},
   "outputs": [
    {
     "name": "stdout",
     "output_type": "stream",
     "text": [
      "C:\n",
      "ombre\\directorio\n"
     ]
    },
    {
     "name": "stderr",
     "output_type": "stream",
     "text": [
      "<>:1: SyntaxWarning: invalid escape sequence '\\d'\n",
      "<>:1: SyntaxWarning: invalid escape sequence '\\d'\n",
      "C:\\Users\\danie\\AppData\\Local\\Temp\\ipykernel_14372\\1403242980.py:1: SyntaxWarning: invalid escape sequence '\\d'\n",
      "  print(\"C:\\nombre\\directorio\")\n"
     ]
    }
   ],
   "source": [
    "print(\"C:\\nombre\\directorio\")"
   ]
  },
  {
   "cell_type": "code",
   "execution_count": 27,
   "id": "7142adc3-41bf-4df2-9d48-a0427e835f55",
   "metadata": {},
   "outputs": [
    {
     "name": "stdout",
     "output_type": "stream",
     "text": [
      "C:\\nombre\\directorio\n"
     ]
    }
   ],
   "source": [
    "print(r\"C:\\nombre\\directorio\")"
   ]
  },
  {
   "cell_type": "code",
   "execution_count": 28,
   "id": "be36c26f-4bf5-4b35-a6d0-8307ae7ad714",
   "metadata": {},
   "outputs": [
    {
     "name": "stdout",
     "output_type": "stream",
     "text": [
      "una linea\n",
      "otra linea\n",
      "otra linea\tuna tabulacion\n"
     ]
    }
   ],
   "source": [
    "print(\"\"\"una linea\n",
    "otra linea\n",
    "otra linea\\tuna tabulacion\"\"\")"
   ]
  },
  {
   "cell_type": "code",
   "execution_count": 30,
   "id": "d71eeff3-1a04-4b54-b39a-90c658d5aaba",
   "metadata": {},
   "outputs": [],
   "source": [
    "c = \"esto es una cadena\\ncon dos lineas\""
   ]
  },
  {
   "cell_type": "code",
   "execution_count": 31,
   "id": "da367969-5256-4732-9e6a-b2722d42038c",
   "metadata": {},
   "outputs": [
    {
     "data": {
      "text/plain": [
       "'esto es una cadena\\ncon dos lineas'"
      ]
     },
     "execution_count": 31,
     "metadata": {},
     "output_type": "execute_result"
    }
   ],
   "source": [
    "c"
   ]
  },
  {
   "cell_type": "code",
   "execution_count": 33,
   "id": "beaa6913-822f-4fc4-9fd2-881c5b5fe3c0",
   "metadata": {},
   "outputs": [
    {
     "name": "stdout",
     "output_type": "stream",
     "text": [
      "esto es una cadena\n",
      "con dos lineas\n"
     ]
    }
   ],
   "source": [
    "print(c)"
   ]
  },
  {
   "cell_type": "code",
   "execution_count": 34,
   "id": "81064fe5-2f63-4dca-ab1a-533e2b41dbac",
   "metadata": {},
   "outputs": [
    {
     "data": {
      "text/plain": [
       "'esto es una cadena\\ncon dos lineasesto es una cadena\\ncon dos lineas'"
      ]
     },
     "execution_count": 34,
     "metadata": {},
     "output_type": "execute_result"
    }
   ],
   "source": [
    "c + c"
   ]
  },
  {
   "cell_type": "code",
   "execution_count": 35,
   "id": "44935ee1-66e3-412a-bf40-5e2574472317",
   "metadata": {},
   "outputs": [
    {
     "name": "stdout",
     "output_type": "stream",
     "text": [
      "esto es una cadena\n",
      "con dos lineasesto es una cadena\n",
      "con dos lineas\n"
     ]
    }
   ],
   "source": [
    "print(c+c)"
   ]
  },
  {
   "cell_type": "code",
   "execution_count": 37,
   "id": "f7f13871-bb29-4da7-ba92-39cf3fe505bf",
   "metadata": {},
   "outputs": [
    {
     "name": "stdout",
     "output_type": "stream",
     "text": [
      "una cadenacompuesta de dos cadenas\n"
     ]
    }
   ],
   "source": [
    "s = \"una cadena\" \"compuesta de dos cadenas\"\n",
    "print (s)"
   ]
  },
  {
   "cell_type": "code",
   "execution_count": 38,
   "id": "d32068a1-c1cd-4e89-98d0-c413ea3d8ae6",
   "metadata": {},
   "outputs": [
    {
     "name": "stdout",
     "output_type": "stream",
     "text": [
      "una cadena otra cadena\n"
     ]
    }
   ],
   "source": [
    "c1 = \"Una cadena\"\n",
    "c2 = \"otra cadena\"\n",
    "print(\"una cadena \" + c2)"
   ]
  },
  {
   "cell_type": "code",
   "execution_count": 39,
   "id": "c169199f-1e2c-4d91-9eb4-ba3b2ed9c8b1",
   "metadata": {},
   "outputs": [
    {
     "name": "stdout",
     "output_type": "stream",
     "text": [
      "          un texto a diez espacios\n"
     ]
    }
   ],
   "source": [
    "diez_espacios = \" \" * 10\n",
    "print(diez_espacios + \"un texto a diez espacios\")"
   ]
  },
  {
   "cell_type": "code",
   "execution_count": 40,
   "id": "eabb90da-8b66-4c6c-bbc4-3f383b7ab56c",
   "metadata": {},
   "outputs": [
    {
     "name": "stdout",
     "output_type": "stream",
     "text": [
      "                    un texto a veinte espacios\n"
     ]
    }
   ],
   "source": [
    "veinte_espacios = \" \" * 20\n",
    "print(veinte_espacios + \"un texto a veinte espacios\")"
   ]
  },
  {
   "cell_type": "code",
   "execution_count": 43,
   "id": "f5bad9e7-3c12-41f7-b28d-0f0169321606",
   "metadata": {},
   "outputs": [],
   "source": [
    "Palabra = \"Python\""
   ]
  },
  {
   "cell_type": "code",
   "execution_count": 44,
   "id": "dca64457-8fe5-4bd0-a757-31e9694ccec6",
   "metadata": {},
   "outputs": [
    {
     "data": {
      "text/plain": [
       "'P'"
      ]
     },
     "execution_count": 44,
     "metadata": {},
     "output_type": "execute_result"
    }
   ],
   "source": [
    "Palabra[0] # caracter en la posicion 0"
   ]
  },
  {
   "cell_type": "code",
   "execution_count": 45,
   "id": "628725d1-0399-4545-99fa-e71b540c2cd0",
   "metadata": {},
   "outputs": [
    {
     "data": {
      "text/plain": [
       "'h'"
      ]
     },
     "execution_count": 45,
     "metadata": {},
     "output_type": "execute_result"
    }
   ],
   "source": [
    "Palabra[3]"
   ]
  },
  {
   "cell_type": "code",
   "execution_count": 46,
   "id": "e4aaaad9-2a9d-4c36-93ba-1f2dbc303d25",
   "metadata": {},
   "outputs": [
    {
     "data": {
      "text/plain": [
       "'n'"
      ]
     },
     "execution_count": 46,
     "metadata": {},
     "output_type": "execute_result"
    }
   ],
   "source": [
    "Palabra[-1]"
   ]
  },
  {
   "cell_type": "code",
   "execution_count": 47,
   "id": "a2af477f-a9c3-4ce9-9404-f0091e4ccc41",
   "metadata": {},
   "outputs": [
    {
     "data": {
      "text/plain": [
       "'P'"
      ]
     },
     "execution_count": 47,
     "metadata": {},
     "output_type": "execute_result"
    }
   ],
   "source": [
    "Palabra[-0]"
   ]
  },
  {
   "cell_type": "code",
   "execution_count": 48,
   "id": "6d78c1ed-9b21-40a6-9279-9e4c29d1e2d0",
   "metadata": {},
   "outputs": [
    {
     "data": {
      "text/plain": [
       "'o'"
      ]
     },
     "execution_count": 48,
     "metadata": {},
     "output_type": "execute_result"
    }
   ],
   "source": [
    "Palabra[-2]"
   ]
  },
  {
   "cell_type": "code",
   "execution_count": 49,
   "id": "f3ca7ecb-b1d1-402d-a5f7-b731fe1e6061",
   "metadata": {},
   "outputs": [
    {
     "data": {
      "text/plain": [
       "'P'"
      ]
     },
     "execution_count": 49,
     "metadata": {},
     "output_type": "execute_result"
    }
   ],
   "source": [
    "Palabra[-6]"
   ]
  },
  {
   "cell_type": "code",
   "execution_count": 56,
   "id": "ec4de14c-1046-4dee-bf21-badab1bd69b4",
   "metadata": {},
   "outputs": [
    {
     "data": {
      "text/plain": [
       "'n'"
      ]
     },
     "execution_count": 56,
     "metadata": {},
     "output_type": "execute_result"
    }
   ],
   "source": [
    "Palabra[5]"
   ]
  },
  {
   "cell_type": "code",
   "execution_count": 57,
   "id": "1b8eed14-085a-4e1c-8e77-5c25d763b63b",
   "metadata": {},
   "outputs": [],
   "source": [
    "numeros = [1,2,3,4]"
   ]
  },
  {
   "cell_type": "code",
   "execution_count": 58,
   "id": "8a520edd-8ed7-4ec0-8e15-3bdcdc40680e",
   "metadata": {},
   "outputs": [],
   "source": [
    "datos = [4, \"Una cadena\",-15,3.14,\"Otra cadena\"]"
   ]
  },
  {
   "cell_type": "code",
   "execution_count": 59,
   "id": "416cc9ec-c9db-454d-a284-bd93d22967a7",
   "metadata": {},
   "outputs": [
    {
     "data": {
      "text/plain": [
       "4"
      ]
     },
     "execution_count": 59,
     "metadata": {},
     "output_type": "execute_result"
    }
   ],
   "source": [
    "datos[0]"
   ]
  },
  {
   "cell_type": "code",
   "execution_count": 60,
   "id": "ae78a99d-7c5a-4a0e-8767-61bcb432ed52",
   "metadata": {},
   "outputs": [
    {
     "data": {
      "text/plain": [
       "'Otra cadena'"
      ]
     },
     "execution_count": 60,
     "metadata": {},
     "output_type": "execute_result"
    }
   ],
   "source": [
    "datos[-1]"
   ]
  },
  {
   "cell_type": "code",
   "execution_count": 61,
   "id": "7aec05cf-16a7-4545-b2c4-934f17210364",
   "metadata": {},
   "outputs": [
    {
     "data": {
      "text/plain": [
       "'Otra cadena'"
      ]
     },
     "execution_count": 61,
     "metadata": {},
     "output_type": "execute_result"
    }
   ],
   "source": [
    "datos[-1]"
   ]
  },
  {
   "cell_type": "code",
   "execution_count": 62,
   "id": "627dd1fa-7d39-4226-b9ea-96394e54495b",
   "metadata": {},
   "outputs": [
    {
     "data": {
      "text/plain": [
       "[3.14, 'Otra cadena']"
      ]
     },
     "execution_count": 62,
     "metadata": {},
     "output_type": "execute_result"
    }
   ],
   "source": [
    "datos[-2:]"
   ]
  },
  {
   "cell_type": "code",
   "execution_count": 63,
   "id": "a93dd585-3cb2-4862-9240-6862de9a461d",
   "metadata": {},
   "outputs": [
    {
     "data": {
      "text/plain": [
       "'n'"
      ]
     },
     "execution_count": 63,
     "metadata": {},
     "output_type": "execute_result"
    }
   ],
   "source": [
    "datos[1][8]"
   ]
  },
  {
   "cell_type": "code",
   "execution_count": 64,
   "id": "30cd37d2-ecee-4cd0-a93a-c1896640d4a6",
   "metadata": {},
   "outputs": [],
   "source": [
    "c=3.14"
   ]
  },
  {
   "cell_type": "code",
   "execution_count": 66,
   "id": "aff96546-6a55-42c7-9d39-e79c70c48cc6",
   "metadata": {},
   "outputs": [
    {
     "data": {
      "text/plain": [
       "'.14'"
      ]
     },
     "execution_count": 66,
     "metadata": {},
     "output_type": "execute_result"
    }
   ],
   "source": [
    "type(c)\n",
    "c1= str(c)\n",
    "c1[1:]"
   ]
  },
  {
   "cell_type": "code",
   "execution_count": 67,
   "id": "0493fd78-65ba-4bdd-91a8-edce2d74f539",
   "metadata": {},
   "outputs": [
    {
     "data": {
      "text/plain": [
       "6"
      ]
     },
     "execution_count": 67,
     "metadata": {},
     "output_type": "execute_result"
    }
   ],
   "source": [
    "len(palabra)"
   ]
  },
  {
   "cell_type": "code",
   "execution_count": 69,
   "id": "e3c5b9c7-6660-4ee5-a0d8-0b03bc6bbb5e",
   "metadata": {},
   "outputs": [
    {
     "data": {
      "text/plain": [
       "'Nython'"
      ]
     },
     "execution_count": 69,
     "metadata": {},
     "output_type": "execute_result"
    }
   ],
   "source": [
    "palabra = \"N\" + palabra[1:]\n",
    "palabra"
   ]
  },
  {
   "cell_type": "code",
   "execution_count": 70,
   "id": "0c6af9d3-6c14-48bc-b563-5ad61f0f03e0",
   "metadata": {},
   "outputs": [
    {
     "data": {
      "text/plain": [
       "'Nython'"
      ]
     },
     "execution_count": 70,
     "metadata": {},
     "output_type": "execute_result"
    }
   ],
   "source": [
    "palabra[:99]"
   ]
  },
  {
   "cell_type": "code",
   "execution_count": 71,
   "id": "6f132669-fcd3-4d2f-8f4b-86697d85a811",
   "metadata": {},
   "outputs": [
    {
     "data": {
      "text/plain": [
       "''"
      ]
     },
     "execution_count": 71,
     "metadata": {},
     "output_type": "execute_result"
    }
   ],
   "source": [
    "palabra[99:]"
   ]
  },
  {
   "cell_type": "code",
   "execution_count": 72,
   "id": "618d28f8-b636-402b-a0ed-d61001b57a5e",
   "metadata": {},
   "outputs": [
    {
     "data": {
      "text/plain": [
       "'Nython'"
      ]
     },
     "execution_count": 72,
     "metadata": {},
     "output_type": "execute_result"
    }
   ],
   "source": [
    "palabra[:]"
   ]
  },
  {
   "cell_type": "code",
   "execution_count": 73,
   "id": "d9e7c620-4025-40b1-a133-9ee2057f4f30",
   "metadata": {},
   "outputs": [
    {
     "data": {
      "text/plain": [
       "'Nython'"
      ]
     },
     "execution_count": 73,
     "metadata": {},
     "output_type": "execute_result"
    }
   ],
   "source": [
    "palabra[:2] + palabra[2:]"
   ]
  },
  {
   "cell_type": "code",
   "execution_count": 75,
   "id": "8beccf19-c257-44c4-b24b-123d677530c1",
   "metadata": {},
   "outputs": [
    {
     "data": {
      "text/plain": [
       "'Nython'"
      ]
     },
     "execution_count": 75,
     "metadata": {},
     "output_type": "execute_result"
    }
   ],
   "source": [
    "palabra[:-2]+palabra[-2:]"
   ]
  },
  {
   "cell_type": "code",
   "execution_count": 76,
   "id": "7a08c9cc-c58a-4b0f-ad14-c63e5033d163",
   "metadata": {},
   "outputs": [],
   "source": [
    "palabra = \"python\""
   ]
  },
  {
   "cell_type": "code",
   "execution_count": 77,
   "id": "2b50513c-eef2-4c8e-bc3b-84c4dd7a042e",
   "metadata": {},
   "outputs": [
    {
     "data": {
      "text/plain": [
       "'py'"
      ]
     },
     "execution_count": 77,
     "metadata": {},
     "output_type": "execute_result"
    }
   ],
   "source": [
    "palabra[0:2]"
   ]
  },
  {
   "cell_type": "code",
   "execution_count": 79,
   "id": "5bda450d-a33d-41de-bccd-608f0fbad7a9",
   "metadata": {},
   "outputs": [
    {
     "data": {
      "text/plain": [
       "'thon'"
      ]
     },
     "execution_count": 79,
     "metadata": {},
     "output_type": "execute_result"
    }
   ],
   "source": [
    "palabra[2:]"
   ]
  },
  {
   "cell_type": "code",
   "execution_count": 80,
   "id": "c0545cfe-b388-479e-8479-ac09475ceb6d",
   "metadata": {},
   "outputs": [
    {
     "data": {
      "text/plain": [
       "'py'"
      ]
     },
     "execution_count": 80,
     "metadata": {},
     "output_type": "execute_result"
    }
   ],
   "source": [
    "palabra[:2]"
   ]
  },
  {
   "cell_type": "code",
   "execution_count": 81,
   "id": "35a0baee-4c2d-463e-8172-b01a5371e660",
   "metadata": {},
   "outputs": [
    {
     "data": {
      "text/plain": [
       "4"
      ]
     },
     "execution_count": 81,
     "metadata": {},
     "output_type": "execute_result"
    }
   ],
   "source": [
    "datos[0]"
   ]
  },
  {
   "cell_type": "code",
   "execution_count": 82,
   "id": "13f35fed-8c15-4e2d-bc73-1df06ef3f755",
   "metadata": {},
   "outputs": [
    {
     "data": {
      "text/plain": [
       "'Otra cadena'"
      ]
     },
     "execution_count": 82,
     "metadata": {},
     "output_type": "execute_result"
    }
   ],
   "source": [
    "datos[-1]"
   ]
  },
  {
   "cell_type": "code",
   "execution_count": 83,
   "id": "65ace60b-1757-46a2-87ca-ddae969ed3a2",
   "metadata": {},
   "outputs": [
    {
     "data": {
      "text/plain": [
       "[3.14, 'Otra cadena']"
      ]
     },
     "execution_count": 83,
     "metadata": {},
     "output_type": "execute_result"
    }
   ],
   "source": [
    "datos[-2:]"
   ]
  },
  {
   "cell_type": "code",
   "execution_count": 84,
   "id": "31a4af70-fb47-4ddc-89d6-45300e549365",
   "metadata": {},
   "outputs": [
    {
     "data": {
      "text/plain": [
       "'n'"
      ]
     },
     "execution_count": 84,
     "metadata": {},
     "output_type": "execute_result"
    }
   ],
   "source": [
    "datos[1][8]"
   ]
  },
  {
   "cell_type": "code",
   "execution_count": 85,
   "id": "11ef532e-e085-4616-bb2b-f592450ed492",
   "metadata": {},
   "outputs": [],
   "source": [
    "c=3.14"
   ]
  },
  {
   "cell_type": "code",
   "execution_count": 86,
   "id": "7b5e6b2b-759f-4dee-bf11-c94a20d79f27",
   "metadata": {},
   "outputs": [
    {
     "data": {
      "text/plain": [
       "'.14'"
      ]
     },
     "execution_count": 86,
     "metadata": {},
     "output_type": "execute_result"
    }
   ],
   "source": [
    "type(c)\n",
    "c1= str(c)\n",
    "c1[1:]"
   ]
  },
  {
   "cell_type": "code",
   "execution_count": 87,
   "id": "1ed20f37-ba79-4022-aece-3bdda0c9c05b",
   "metadata": {},
   "outputs": [],
   "source": [
    "numeros =[1,2,3,4]"
   ]
  },
  {
   "cell_type": "code",
   "execution_count": 88,
   "id": "2c79fd40-79a8-488d-8fb0-7c5be66e2304",
   "metadata": {},
   "outputs": [],
   "source": [
    "datos = [4, \"Una cadena\", -15,3.14,\"Otra cadena\"]"
   ]
  },
  {
   "cell_type": "code",
   "execution_count": 89,
   "id": "ddca31dd-9fac-41ec-952c-f6890f78f67e",
   "metadata": {},
   "outputs": [
    {
     "data": {
      "text/plain": [
       "6"
      ]
     },
     "execution_count": 89,
     "metadata": {},
     "output_type": "execute_result"
    }
   ],
   "source": [
    "len(palabra)"
   ]
  },
  {
   "cell_type": "code",
   "execution_count": 90,
   "id": "560549a8-a3af-4452-8a01-7e50fd6a0083",
   "metadata": {},
   "outputs": [
    {
     "name": "stdin",
     "output_type": "stream",
     "text": [
      "Número de días alquilados:  10\n",
      "Número de kilómetros recorridos:  30\n"
     ]
    },
    {
     "name": "stdout",
     "output_type": "stream",
     "text": [
      "El total a pagar es: 5304.75 Lps.\n"
     ]
    }
   ],
   "source": [
    "dias = int(input(\"Número de días alquilados: \"))\n",
    "kilometros = float(input(\"Número de kilómetros recorridos: \"))\n",
    "\n",
    "costo_dias = dias * 400\n",
    "costo_kilometros = kilometros * 0.75\n",
    "seguro = 800\n",
    "subtotal = costo_dias + costo_kilometros + seguro\n",
    "impuesto = subtotal * 0.10\n",
    "total = subtotal + impuesto\n",
    "\n",
    "print(f\"El total a pagar es: {total:.2f} Lps.\")\n"
   ]
  },
  {
   "cell_type": "code",
   "execution_count": 92,
   "id": "f2bb1a5b-1b7e-47f4-9629-daf4617bb769",
   "metadata": {},
   "outputs": [
    {
     "name": "stdin",
     "output_type": "stream",
     "text": [
      "Ingrese el número de kilómetros a recorrer:  10\n",
      "Ingrese el rendimiento del vehículo (kilómetros por galón):  5\n"
     ]
    },
    {
     "name": "stdout",
     "output_type": "stream",
     "text": [
      "\n",
      "El costo total del viaje es: 80.00 Lps.\n"
     ]
    }
   ],
   "source": [
    "kilometros_recorrer = float(input(\"Ingrese el número de kilómetros a recorrer: \"))\n",
    "kilometros_galon = float(input(\"Ingrese el rendimiento del vehículo (kilómetros por galón): \"))\n",
    "precio_gasolina = 40.0\n",
    "\n",
    "galones_necesarios = kilometros_recorrer / kilometros_galon\n",
    "costo_total = galones_necesarios * precio_gasolina\n",
    "\n",
    "print(f\"\\nEl costo total del viaje es: {costo_total:.2f} Lps.\")"
   ]
  },
  {
   "cell_type": "code",
   "execution_count": 93,
   "id": "b7709ff7-a12e-4d4d-81ac-f59d708480aa",
   "metadata": {},
   "outputs": [
    {
     "data": {
      "text/plain": [
       "[1, 2, 3, 4, 5, 6, 7, 8]"
      ]
     },
     "execution_count": 93,
     "metadata": {},
     "output_type": "execute_result"
    }
   ],
   "source": [
    "numeros + [5,6,7,8]"
   ]
  },
  {
   "cell_type": "code",
   "execution_count": 96,
   "id": "096d603c-c5b6-42f1-a42e-22f992dae507",
   "metadata": {},
   "outputs": [],
   "source": [
    "pares = [0,2,4,5,8,10]"
   ]
  },
  {
   "cell_type": "code",
   "execution_count": 97,
   "id": "f5ff9c8e-9127-41ef-9412-32a7ecd30e52",
   "metadata": {},
   "outputs": [],
   "source": [
    "pares[3]= 6"
   ]
  },
  {
   "cell_type": "code",
   "execution_count": 98,
   "id": "f758ea92-cb39-40e0-97df-84f409ec6bae",
   "metadata": {},
   "outputs": [
    {
     "data": {
      "text/plain": [
       "[0, 2, 4, 6, 8, 10]"
      ]
     },
     "execution_count": 98,
     "metadata": {},
     "output_type": "execute_result"
    }
   ],
   "source": [
    "pares"
   ]
  },
  {
   "cell_type": "code",
   "execution_count": 100,
   "id": "46319a1e-da64-4e15-8889-011c3d6db0f2",
   "metadata": {},
   "outputs": [],
   "source": [
    "pares.append(12)"
   ]
  },
  {
   "cell_type": "code",
   "execution_count": 101,
   "id": "c14d02bf-2d87-4de2-93be-235cb2d71092",
   "metadata": {},
   "outputs": [
    {
     "data": {
      "text/plain": [
       "[0, 2, 4, 6, 8, 10, 12]"
      ]
     },
     "execution_count": 101,
     "metadata": {},
     "output_type": "execute_result"
    }
   ],
   "source": [
    "pares"
   ]
  },
  {
   "cell_type": "code",
   "execution_count": 102,
   "id": "819962e8-afa2-4400-a5f0-1cdda8ba4824",
   "metadata": {},
   "outputs": [],
   "source": [
    "pares.append(7*2)"
   ]
  },
  {
   "cell_type": "code",
   "execution_count": 103,
   "id": "68657759-11f7-412e-b9f9-3c1a85d76f5b",
   "metadata": {},
   "outputs": [
    {
     "data": {
      "text/plain": [
       "[0, 2, 4, 6, 8, 10, 12, 14]"
      ]
     },
     "execution_count": 103,
     "metadata": {},
     "output_type": "execute_result"
    }
   ],
   "source": [
    "pares"
   ]
  },
  {
   "cell_type": "code",
   "execution_count": 104,
   "id": "3a712b67-006b-42ad-8647-2ff3bd8269d8",
   "metadata": {},
   "outputs": [],
   "source": [
    "letras = ['a','b','c','d','e','f']"
   ]
  },
  {
   "cell_type": "code",
   "execution_count": 105,
   "id": "63405969-7f9d-457b-b26b-1f7f058a9955",
   "metadata": {},
   "outputs": [
    {
     "data": {
      "text/plain": [
       "['a', 'b', 'c']"
      ]
     },
     "execution_count": 105,
     "metadata": {},
     "output_type": "execute_result"
    }
   ],
   "source": [
    "letras[:3]"
   ]
  },
  {
   "cell_type": "code",
   "execution_count": 106,
   "id": "cdb51f48-b943-45c9-b2c4-97da6b74bbe7",
   "metadata": {},
   "outputs": [],
   "source": [
    "letras[:3] = ['A', 'B','C']"
   ]
  },
  {
   "cell_type": "code",
   "execution_count": 107,
   "id": "ce4ffe1d-0bd7-4e7a-b80e-2b50afb56993",
   "metadata": {},
   "outputs": [
    {
     "data": {
      "text/plain": [
       "['A', 'B', 'C', 'd', 'e', 'f']"
      ]
     },
     "execution_count": 107,
     "metadata": {},
     "output_type": "execute_result"
    }
   ],
   "source": [
    "letras"
   ]
  },
  {
   "cell_type": "code",
   "execution_count": 108,
   "id": "da6e2248-a3fd-49c1-90e0-397e1e3f53c6",
   "metadata": {},
   "outputs": [],
   "source": [
    "letras[:3] = []"
   ]
  },
  {
   "cell_type": "code",
   "execution_count": 109,
   "id": "1ef8ad7a-5e15-43e2-9eb4-41e432f442fe",
   "metadata": {},
   "outputs": [
    {
     "data": {
      "text/plain": [
       "['d', 'e', 'f']"
      ]
     },
     "execution_count": 109,
     "metadata": {},
     "output_type": "execute_result"
    }
   ],
   "source": [
    "letras"
   ]
  },
  {
   "cell_type": "code",
   "execution_count": 110,
   "id": "a66e57e0-2142-47d4-b47e-8584540c1700",
   "metadata": {},
   "outputs": [],
   "source": [
    "letras = []"
   ]
  },
  {
   "cell_type": "code",
   "execution_count": 111,
   "id": "a3898464-2390-4c0e-92f4-6f83a7343bef",
   "metadata": {},
   "outputs": [
    {
     "data": {
      "text/plain": [
       "[]"
      ]
     },
     "execution_count": 111,
     "metadata": {},
     "output_type": "execute_result"
    }
   ],
   "source": [
    "letras"
   ]
  },
  {
   "cell_type": "code",
   "execution_count": 112,
   "id": "7f99c2e5-5a1b-4544-a25d-d36283ae8ed5",
   "metadata": {},
   "outputs": [
    {
     "data": {
      "text/plain": [
       "0"
      ]
     },
     "execution_count": 112,
     "metadata": {},
     "output_type": "execute_result"
    }
   ],
   "source": [
    "len(letras)"
   ]
  },
  {
   "cell_type": "code",
   "execution_count": 113,
   "id": "cb698485-c60a-49d6-a002-69ca43f348c0",
   "metadata": {},
   "outputs": [
    {
     "data": {
      "text/plain": [
       "8"
      ]
     },
     "execution_count": 113,
     "metadata": {},
     "output_type": "execute_result"
    }
   ],
   "source": [
    "len(pares)"
   ]
  },
  {
   "cell_type": "code",
   "execution_count": 114,
   "id": "9e28b955-8ffc-4720-8f7c-892bef10e010",
   "metadata": {},
   "outputs": [],
   "source": [
    "a = [1,2,3]\n",
    "b = [4,5,6]\n",
    "c = [7,8,9]\n",
    "r = [a,b,c]"
   ]
  },
  {
   "cell_type": "code",
   "execution_count": 115,
   "id": "8821ff1d-3c71-4c18-90c0-a333d889ee48",
   "metadata": {},
   "outputs": [
    {
     "data": {
      "text/plain": [
       "[[1, 2, 3], [4, 5, 6], [7, 8, 9]]"
      ]
     },
     "execution_count": 115,
     "metadata": {},
     "output_type": "execute_result"
    }
   ],
   "source": [
    "r"
   ]
  },
  {
   "cell_type": "code",
   "execution_count": 116,
   "id": "c8a86064-75d1-46e8-a03b-97a3af573eff",
   "metadata": {},
   "outputs": [
    {
     "data": {
      "text/plain": [
       "[1, 2, 3]"
      ]
     },
     "execution_count": 116,
     "metadata": {},
     "output_type": "execute_result"
    }
   ],
   "source": [
    "r[0]"
   ]
  },
  {
   "cell_type": "code",
   "execution_count": 117,
   "id": "694f4479-af7b-474e-a961-aecfbca71562",
   "metadata": {},
   "outputs": [
    {
     "data": {
      "text/plain": [
       "[7, 8, 9]"
      ]
     },
     "execution_count": 117,
     "metadata": {},
     "output_type": "execute_result"
    }
   ],
   "source": [
    "r[-1]"
   ]
  },
  {
   "cell_type": "code",
   "execution_count": 118,
   "id": "442291c8-f220-4cc4-aa08-c56c63ab8f7f",
   "metadata": {},
   "outputs": [
    {
     "data": {
      "text/plain": [
       "1"
      ]
     },
     "execution_count": 118,
     "metadata": {},
     "output_type": "execute_result"
    }
   ],
   "source": [
    "r[0][0]"
   ]
  },
  {
   "cell_type": "code",
   "execution_count": 119,
   "id": "57ccf229-c193-495e-a02d-a928073b7a1d",
   "metadata": {},
   "outputs": [
    {
     "data": {
      "text/plain": [
       "5"
      ]
     },
     "execution_count": 119,
     "metadata": {},
     "output_type": "execute_result"
    }
   ],
   "source": [
    "r[1][1]"
   ]
  },
  {
   "cell_type": "code",
   "execution_count": 120,
   "id": "b0927e53-0584-44cc-b0d9-88b25a6e16a9",
   "metadata": {},
   "outputs": [
    {
     "data": {
      "text/plain": [
       "8"
      ]
     },
     "execution_count": 120,
     "metadata": {},
     "output_type": "execute_result"
    }
   ],
   "source": [
    "r[2][1]"
   ]
  },
  {
   "cell_type": "code",
   "execution_count": 121,
   "id": "b70076df-e694-4235-b209-566014c4f23b",
   "metadata": {},
   "outputs": [
    {
     "data": {
      "text/plain": [
       "9"
      ]
     },
     "execution_count": 121,
     "metadata": {},
     "output_type": "execute_result"
    }
   ],
   "source": [
    "r[-1][-1]"
   ]
  },
  {
   "cell_type": "code",
   "execution_count": 122,
   "id": "664db95b-69dd-4dde-9a90-a8543eb3760a",
   "metadata": {},
   "outputs": [
    {
     "data": {
      "text/plain": [
       "False"
      ]
     },
     "execution_count": 122,
     "metadata": {},
     "output_type": "execute_result"
    }
   ],
   "source": [
    "1+1 == 3"
   ]
  },
  {
   "cell_type": "code",
   "execution_count": 123,
   "id": "5c85a7c4-80c9-466d-9ad4-772755ef560c",
   "metadata": {},
   "outputs": [
    {
     "data": {
      "text/plain": [
       "True"
      ]
     },
     "execution_count": 123,
     "metadata": {},
     "output_type": "execute_result"
    }
   ],
   "source": [
    "1+1 == 2"
   ]
  },
  {
   "cell_type": "code",
   "execution_count": 124,
   "id": "7c97b413-75d7-4c97-ab9b-226982035889",
   "metadata": {},
   "outputs": [
    {
     "data": {
      "text/plain": [
       "False"
      ]
     },
     "execution_count": 124,
     "metadata": {},
     "output_type": "execute_result"
    }
   ],
   "source": [
    "3 == 2"
   ]
  },
  {
   "cell_type": "code",
   "execution_count": 125,
   "id": "f0ee76e2-60f7-4443-98b3-3e316e8f036d",
   "metadata": {},
   "outputs": [
    {
     "data": {
      "text/plain": [
       "True"
      ]
     },
     "execution_count": 125,
     "metadata": {},
     "output_type": "execute_result"
    }
   ],
   "source": [
    "3 != 2"
   ]
  },
  {
   "cell_type": "code",
   "execution_count": 126,
   "id": "8dec534e-bec5-44e6-b4fe-151b4f98b16d",
   "metadata": {},
   "outputs": [
    {
     "data": {
      "text/plain": [
       "True"
      ]
     },
     "execution_count": 126,
     "metadata": {},
     "output_type": "execute_result"
    }
   ],
   "source": [
    "3 > 2"
   ]
  },
  {
   "cell_type": "code",
   "execution_count": 127,
   "id": "3a0d1168-1776-422a-803f-4ca2d5f3340d",
   "metadata": {},
   "outputs": [
    {
     "data": {
      "text/plain": [
       "False"
      ]
     },
     "execution_count": 127,
     "metadata": {},
     "output_type": "execute_result"
    }
   ],
   "source": [
    "3 < 2"
   ]
  },
  {
   "cell_type": "code",
   "execution_count": 128,
   "id": "6662a0c8-be4a-4fc6-93d2-6ab0505fb622",
   "metadata": {},
   "outputs": [
    {
     "data": {
      "text/plain": [
       "False"
      ]
     },
     "execution_count": 128,
     "metadata": {},
     "output_type": "execute_result"
    }
   ],
   "source": [
    "3 >= 4"
   ]
  },
  {
   "cell_type": "code",
   "execution_count": 129,
   "id": "d8e2da47-6a67-49cf-83af-a6ea6803cfe1",
   "metadata": {},
   "outputs": [
    {
     "data": {
      "text/plain": [
       "True"
      ]
     },
     "execution_count": 129,
     "metadata": {},
     "output_type": "execute_result"
    }
   ],
   "source": [
    "3 <= 4"
   ]
  },
  {
   "cell_type": "code",
   "execution_count": 130,
   "id": "f054b10d-3d35-4e2e-9747-0d5d529731ab",
   "metadata": {},
   "outputs": [
    {
     "data": {
      "text/plain": [
       "True"
      ]
     },
     "execution_count": 130,
     "metadata": {},
     "output_type": "execute_result"
    }
   ],
   "source": [
    "a = 10\n",
    "b = 5 \n",
    "a > b"
   ]
  },
  {
   "cell_type": "code",
   "execution_count": 131,
   "id": "3590ca83-a29d-43e1-b7ce-1d39854866c5",
   "metadata": {},
   "outputs": [
    {
     "data": {
      "text/plain": [
       "True"
      ]
     },
     "execution_count": 131,
     "metadata": {},
     "output_type": "execute_result"
    }
   ],
   "source": [
    "b != a"
   ]
  },
  {
   "cell_type": "code",
   "execution_count": 132,
   "id": "f97b668d-1a9b-4c55-9ff8-b2deed3a1ea5",
   "metadata": {},
   "outputs": [
    {
     "data": {
      "text/plain": [
       "True"
      ]
     },
     "execution_count": 132,
     "metadata": {},
     "output_type": "execute_result"
    }
   ],
   "source": [
    "a == b*2"
   ]
  },
  {
   "cell_type": "code",
   "execution_count": 133,
   "id": "64581276-150f-4e3d-813a-f83d41e30d8f",
   "metadata": {},
   "outputs": [
    {
     "data": {
      "text/plain": [
       "True"
      ]
     },
     "execution_count": 133,
     "metadata": {},
     "output_type": "execute_result"
    }
   ],
   "source": [
    "\"Hola\" == \"Hola\" "
   ]
  },
  {
   "cell_type": "code",
   "execution_count": 134,
   "id": "5663bd76-6ff2-4b75-b611-ae488c337166",
   "metadata": {},
   "outputs": [
    {
     "data": {
      "text/plain": [
       "False"
      ]
     },
     "execution_count": 134,
     "metadata": {},
     "output_type": "execute_result"
    }
   ],
   "source": [
    "\"Hola\" != \"Hola\""
   ]
  },
  {
   "cell_type": "code",
   "execution_count": 136,
   "id": "90248479-8a9a-4de0-b76b-ea6e42a8a14b",
   "metadata": {},
   "outputs": [
    {
     "data": {
      "text/plain": [
       "True"
      ]
     },
     "execution_count": 136,
     "metadata": {},
     "output_type": "execute_result"
    }
   ],
   "source": [
    "c = \"Hola\" \n",
    "c[0] == \"H\""
   ]
  },
  {
   "cell_type": "code",
   "execution_count": 137,
   "id": "67f2f463-9ef5-4b75-a9a7-57ac45808469",
   "metadata": {},
   "outputs": [
    {
     "data": {
      "text/plain": [
       "True"
      ]
     },
     "execution_count": 137,
     "metadata": {},
     "output_type": "execute_result"
    }
   ],
   "source": [
    "c[-1] == \"a\""
   ]
  },
  {
   "cell_type": "code",
   "execution_count": 138,
   "id": "1f5af4b8-818c-46bc-a9e2-e6612274d8dc",
   "metadata": {},
   "outputs": [
    {
     "data": {
      "text/plain": [
       "False"
      ]
     },
     "execution_count": 138,
     "metadata": {},
     "output_type": "execute_result"
    }
   ],
   "source": [
    "l1 = [0,1,2]\n",
    "l2 = [2,3,4]\n",
    "l1 == l2"
   ]
  },
  {
   "cell_type": "code",
   "execution_count": 139,
   "id": "b6720e19-abba-403e-854e-fde9509f3fb5",
   "metadata": {},
   "outputs": [
    {
     "data": {
      "text/plain": [
       "True"
      ]
     },
     "execution_count": 139,
     "metadata": {},
     "output_type": "execute_result"
    }
   ],
   "source": [
    "len(l1) == len(l2)"
   ]
  },
  {
   "cell_type": "code",
   "execution_count": 140,
   "id": "c4bd1b71-fb6b-4c4a-9d74-e8c700d14d96",
   "metadata": {},
   "outputs": [
    {
     "data": {
      "text/plain": [
       "True"
      ]
     },
     "execution_count": 140,
     "metadata": {},
     "output_type": "execute_result"
    }
   ],
   "source": [
    "l1[-1] == l2[0]"
   ]
  },
  {
   "cell_type": "code",
   "execution_count": 141,
   "id": "db107f9f-01c8-44b7-b1fa-f43a1a22f772",
   "metadata": {},
   "outputs": [
    {
     "data": {
      "text/plain": [
       "True"
      ]
     },
     "execution_count": 141,
     "metadata": {},
     "output_type": "execute_result"
    }
   ],
   "source": [
    "True == True "
   ]
  },
  {
   "cell_type": "code",
   "execution_count": 142,
   "id": "a8191288-20cc-4d1c-9295-7d259f3ac13e",
   "metadata": {},
   "outputs": [
    {
     "data": {
      "text/plain": [
       "False"
      ]
     },
     "execution_count": 142,
     "metadata": {},
     "output_type": "execute_result"
    }
   ],
   "source": [
    "False == True"
   ]
  },
  {
   "cell_type": "code",
   "execution_count": 143,
   "id": "b1026e43-1a3b-4342-bef5-90d5c7719d39",
   "metadata": {},
   "outputs": [
    {
     "data": {
      "text/plain": [
       "True"
      ]
     },
     "execution_count": 143,
     "metadata": {},
     "output_type": "execute_result"
    }
   ],
   "source": [
    "False != True"
   ]
  },
  {
   "cell_type": "code",
   "execution_count": 144,
   "id": "49b8fbb0-5894-4f5d-b28d-6b128056634a",
   "metadata": {},
   "outputs": [
    {
     "data": {
      "text/plain": [
       "True"
      ]
     },
     "execution_count": 144,
     "metadata": {},
     "output_type": "execute_result"
    }
   ],
   "source": [
    "True > False"
   ]
  },
  {
   "cell_type": "code",
   "execution_count": 145,
   "id": "dd8485a7-07b2-42cf-a061-b51b458d7a8e",
   "metadata": {},
   "outputs": [
    {
     "data": {
      "text/plain": [
       "False"
      ]
     },
     "execution_count": 145,
     "metadata": {},
     "output_type": "execute_result"
    }
   ],
   "source": [
    "False > True"
   ]
  },
  {
   "cell_type": "code",
   "execution_count": 146,
   "id": "df8ba398-44d6-4557-9cb8-d724104c0d7f",
   "metadata": {},
   "outputs": [
    {
     "data": {
      "text/plain": [
       "3"
      ]
     },
     "execution_count": 146,
     "metadata": {},
     "output_type": "execute_result"
    }
   ],
   "source": [
    "True * 3"
   ]
  },
  {
   "cell_type": "code",
   "execution_count": 147,
   "id": "ca03c800-2c56-4e0f-8a86-ee028a6bf4b3",
   "metadata": {},
   "outputs": [
    {
     "data": {
      "text/plain": [
       "0.0"
      ]
     },
     "execution_count": 147,
     "metadata": {},
     "output_type": "execute_result"
    }
   ],
   "source": [
    "False / 5"
   ]
  },
  {
   "cell_type": "code",
   "execution_count": 148,
   "id": "6c2b3039-07c6-4815-975b-8891fab10dee",
   "metadata": {},
   "outputs": [
    {
     "data": {
      "text/plain": [
       "0"
      ]
     },
     "execution_count": 148,
     "metadata": {},
     "output_type": "execute_result"
    }
   ],
   "source": [
    "True * False"
   ]
  },
  {
   "cell_type": "code",
   "execution_count": 149,
   "id": "4c5db156-b813-4e50-a6b4-1c5062ef3473",
   "metadata": {},
   "outputs": [
    {
     "data": {
      "text/plain": [
       "False"
      ]
     },
     "execution_count": 149,
     "metadata": {},
     "output_type": "execute_result"
    }
   ],
   "source": [
    "3 == 2"
   ]
  },
  {
   "cell_type": "code",
   "execution_count": 150,
   "id": "bbdd231e-1179-42d4-91b0-d9c91b5b1455",
   "metadata": {},
   "outputs": [
    {
     "data": {
      "text/plain": [
       "True"
      ]
     },
     "execution_count": 150,
     "metadata": {},
     "output_type": "execute_result"
    }
   ],
   "source": [
    "3 != 2"
   ]
  },
  {
   "cell_type": "code",
   "execution_count": 151,
   "id": "44011eaa-7461-451b-99bb-ddd40b252456",
   "metadata": {},
   "outputs": [
    {
     "data": {
      "text/plain": [
       "True"
      ]
     },
     "execution_count": 151,
     "metadata": {},
     "output_type": "execute_result"
    }
   ],
   "source": [
    "3 > 2"
   ]
  },
  {
   "cell_type": "code",
   "execution_count": 152,
   "id": "4d9a938e-71e5-440c-9d42-8482654389c5",
   "metadata": {},
   "outputs": [
    {
     "data": {
      "text/plain": [
       "False"
      ]
     },
     "execution_count": 152,
     "metadata": {},
     "output_type": "execute_result"
    }
   ],
   "source": [
    "3 < 2"
   ]
  },
  {
   "cell_type": "code",
   "execution_count": 153,
   "id": "7289158f-2ac0-4c2c-a654-6112ef278a78",
   "metadata": {},
   "outputs": [
    {
     "data": {
      "text/plain": [
       "False"
      ]
     },
     "execution_count": 153,
     "metadata": {},
     "output_type": "execute_result"
    }
   ],
   "source": [
    "3 >= 4"
   ]
  },
  {
   "cell_type": "code",
   "execution_count": 154,
   "id": "a75a390e-bf22-47b7-9f45-4f645b48ae80",
   "metadata": {},
   "outputs": [
    {
     "data": {
      "text/plain": [
       "True"
      ]
     },
     "execution_count": 154,
     "metadata": {},
     "output_type": "execute_result"
    }
   ],
   "source": [
    "3 <= 4"
   ]
  },
  {
   "cell_type": "code",
   "execution_count": 155,
   "id": "c8866b2b-539e-4c31-b035-4e56b48ebbdc",
   "metadata": {},
   "outputs": [
    {
     "data": {
      "text/plain": [
       "False"
      ]
     },
     "execution_count": 155,
     "metadata": {},
     "output_type": "execute_result"
    }
   ],
   "source": [
    "not True"
   ]
  },
  {
   "cell_type": "code",
   "execution_count": 156,
   "id": "34950cea-3c61-48c1-8d97-81a1e383aca2",
   "metadata": {},
   "outputs": [
    {
     "data": {
      "text/plain": [
       "True"
      ]
     },
     "execution_count": 156,
     "metadata": {},
     "output_type": "execute_result"
    }
   ],
   "source": [
    "not True == False"
   ]
  },
  {
   "cell_type": "code",
   "execution_count": 157,
   "id": "3426cc27-2886-4f37-ac48-4d98b53c80d0",
   "metadata": {},
   "outputs": [
    {
     "data": {
      "text/plain": [
       "True"
      ]
     },
     "execution_count": 157,
     "metadata": {},
     "output_type": "execute_result"
    }
   ],
   "source": [
    "True and True"
   ]
  },
  {
   "cell_type": "code",
   "execution_count": 158,
   "id": "21d93fbe-8aa5-4abb-ac90-ebf5a7614aa2",
   "metadata": {},
   "outputs": [
    {
     "data": {
      "text/plain": [
       "False"
      ]
     },
     "execution_count": 158,
     "metadata": {},
     "output_type": "execute_result"
    }
   ],
   "source": [
    "True and False"
   ]
  },
  {
   "cell_type": "code",
   "execution_count": 159,
   "id": "a5211beb-d404-450d-bc4f-1355d48b241f",
   "metadata": {},
   "outputs": [
    {
     "data": {
      "text/plain": [
       "False"
      ]
     },
     "execution_count": 159,
     "metadata": {},
     "output_type": "execute_result"
    }
   ],
   "source": [
    "False and True"
   ]
  },
  {
   "cell_type": "code",
   "execution_count": 160,
   "id": "aa0ee18d-87a2-496f-a123-a576e5ab8d3f",
   "metadata": {},
   "outputs": [
    {
     "data": {
      "text/plain": [
       "False"
      ]
     },
     "execution_count": 160,
     "metadata": {},
     "output_type": "execute_result"
    }
   ],
   "source": [
    "False and False"
   ]
  },
  {
   "cell_type": "code",
   "execution_count": 161,
   "id": "793228fd-fd3b-4eaa-9197-0281dc2c5fca",
   "metadata": {},
   "outputs": [
    {
     "data": {
      "text/plain": [
       "True"
      ]
     },
     "execution_count": 161,
     "metadata": {},
     "output_type": "execute_result"
    }
   ],
   "source": [
    "a = 45\n",
    "a > 10 and a > 20"
   ]
  },
  {
   "cell_type": "code",
   "execution_count": 162,
   "id": "f6e7b09c-0f4b-4dba-86bd-4a809d409b36",
   "metadata": {},
   "outputs": [
    {
     "data": {
      "text/plain": [
       "False"
      ]
     },
     "execution_count": 162,
     "metadata": {},
     "output_type": "execute_result"
    }
   ],
   "source": [
    "c = \"Hola Mundo\"\n",
    "len(c) >= 20 and c[0] == \"H\""
   ]
  },
  {
   "cell_type": "code",
   "execution_count": 163,
   "id": "a5743911-e521-46d4-817e-e5a05d301c2e",
   "metadata": {},
   "outputs": [
    {
     "data": {
      "text/plain": [
       "True"
      ]
     },
     "execution_count": 163,
     "metadata": {},
     "output_type": "execute_result"
    }
   ],
   "source": [
    "True or True "
   ]
  },
  {
   "cell_type": "code",
   "execution_count": 164,
   "id": "15448551-906f-49da-a913-570c85601eed",
   "metadata": {},
   "outputs": [
    {
     "data": {
      "text/plain": [
       "True"
      ]
     },
     "execution_count": 164,
     "metadata": {},
     "output_type": "execute_result"
    }
   ],
   "source": [
    "True or False"
   ]
  },
  {
   "cell_type": "code",
   "execution_count": 165,
   "id": "d07c8204-5ba0-4404-bd2d-05cf1a1e0c8b",
   "metadata": {},
   "outputs": [
    {
     "data": {
      "text/plain": [
       "True"
      ]
     },
     "execution_count": 165,
     "metadata": {},
     "output_type": "execute_result"
    }
   ],
   "source": [
    "False or True"
   ]
  },
  {
   "cell_type": "code",
   "execution_count": 166,
   "id": "c0e3c580-729e-46ac-92a6-36e3c9e92ba5",
   "metadata": {},
   "outputs": [
    {
     "data": {
      "text/plain": [
       "False"
      ]
     },
     "execution_count": 166,
     "metadata": {},
     "output_type": "execute_result"
    }
   ],
   "source": [
    "False or False"
   ]
  },
  {
   "cell_type": "code",
   "execution_count": 167,
   "id": "7ea1ccd9-e72d-429d-8635-f491836b52b0",
   "metadata": {},
   "outputs": [
    {
     "data": {
      "text/plain": [
       "False"
      ]
     },
     "execution_count": 167,
     "metadata": {},
     "output_type": "execute_result"
    }
   ],
   "source": [
    "c = \"OTRA COSA\"\n",
    "c == \"EXIT\" or c == \"FIN\" or c == \"SALIR\""
   ]
  },
  {
   "cell_type": "code",
   "execution_count": 169,
   "id": "ff8995ec-e257-479f-a519-6db1788d0641",
   "metadata": {},
   "outputs": [
    {
     "data": {
      "text/plain": [
       "False"
      ]
     },
     "execution_count": 169,
     "metadata": {},
     "output_type": "execute_result"
    }
   ],
   "source": [
    "c = \"Lector\"\n",
    "c[0] == \"H\" or  c[0] == \"h\""
   ]
  },
  {
   "cell_type": "code",
   "execution_count": 170,
   "id": "a01b7050-6577-48cb-8508-1f91177eb4b8",
   "metadata": {},
   "outputs": [
    {
     "data": {
      "text/plain": [
       "False"
      ]
     },
     "execution_count": 170,
     "metadata": {},
     "output_type": "execute_result"
    }
   ],
   "source": [
    "a = 10 \n",
    "b = 5\n",
    "a * b - 2**b >= 20 and not (a % b) != 0"
   ]
  },
  {
   "cell_type": "code",
   "execution_count": 171,
   "id": "83948907-63aa-4040-be3f-c7cddbe8db7e",
   "metadata": {},
   "outputs": [
    {
     "name": "stdout",
     "output_type": "stream",
     "text": [
      "0 es un numero par\n",
      "1 es un numero impar\n",
      "2 es un numero par\n",
      "3 es un numero impar\n",
      "4 es un numero par\n",
      "5 es un numero impar\n",
      "6 es un numero par\n",
      "7 es un numero impar\n",
      "8 es un numero par\n",
      "9 es un numero impar\n"
     ]
    }
   ],
   "source": [
    "n = 0\n",
    "while n < 10:\n",
    "    if (n % 2) == 0:\n",
    "        print(n, 'es un numero par')\n",
    "    else:\n",
    "        print(n,'es un numero impar')\n",
    "    n = n + 1"
   ]
  },
  {
   "cell_type": "code",
   "execution_count": 172,
   "id": "98347ccf-b7de-447a-acdb-53e38f382203",
   "metadata": {},
   "outputs": [
    {
     "name": "stdout",
     "output_type": "stream",
     "text": [
      "se cumple la condicion\n",
      "Tambien se muestre este print\n",
      "Imprime de todas formas hasta el final\n"
     ]
    }
   ],
   "source": [
    "if True:\n",
    "    print(\"se cumple la condicion\")\n",
    "    print(\"Tambien se muestre este print\")\n",
    "print(\"Imprime de todas formas hasta el final\")"
   ]
  },
  {
   "cell_type": "code",
   "execution_count": 173,
   "id": "30271e05-11b2-495d-9738-20c351d6087a",
   "metadata": {},
   "outputs": [
    {
     "name": "stdout",
     "output_type": "stream",
     "text": [
      "a vale 5\n"
     ]
    }
   ],
   "source": [
    "a = 5\n",
    "if a == 2:\n",
    "    print(\"a vale 2\")\n",
    "if a == 5:\n",
    "    print(\"a vale 5\")"
   ]
  },
  {
   "cell_type": "code",
   "execution_count": 174,
   "id": "1b560951-a218-4dbe-95dd-d1d64b017485",
   "metadata": {},
   "outputs": [
    {
     "name": "stdout",
     "output_type": "stream",
     "text": [
      "a vale 5\n",
      "y b vale 11\n",
      "valor de a y b 5 11\n"
     ]
    }
   ],
   "source": [
    "a = 5\n",
    "b = 11\n",
    "if a == 5:\n",
    "    print(\"a vale\",a)\n",
    "    if b == 11:\n",
    "        print(\"y b vale\",b)\n",
    "    print(\"valor de a y b\",a,b)"
   ]
  },
  {
   "cell_type": "code",
   "execution_count": 175,
   "id": "53baec0f-143c-4db5-ab1a-0d015fa59a1d",
   "metadata": {},
   "outputs": [],
   "source": [
    "if a==5 and b == 10:\n",
    "    print(\"a vale 5 y b vale 10\")"
   ]
  },
  {
   "cell_type": "code",
   "execution_count": 176,
   "id": "fd86ca69-e9c1-4ac9-ac37-d6271f4e3b96",
   "metadata": {},
   "outputs": [
    {
     "name": "stdout",
     "output_type": "stream",
     "text": [
      "11 es un numero impar\n"
     ]
    }
   ],
   "source": [
    "n = 11 \n",
    "if n % 2==0:\n",
    "    print(n,\"es un numero par\")\n",
    "else:\n",
    "    print(n,\"es un numero impar\")"
   ]
  },
  {
   "cell_type": "code",
   "execution_count": 179,
   "id": "769a45ad-f481-450a-b402-694a36d907c3",
   "metadata": {},
   "outputs": [
    {
     "name": "stdout",
     "output_type": "stream",
     "text": [
      "Este comando no se reconoce\n"
     ]
    }
   ],
   "source": [
    "comando = \"OTRA COSA\"\n",
    "if comando == \"ENTRAR\":\n",
    "    print(\"Bienvenido al sistema\")\n",
    "elif comando == \"SALUDAR\":\n",
    "    print(\"Hola, espero que te lo estés pasando bien aprendiendo Python\")\n",
    "elif comando == \"SALIR\":\n",
    "    print(\"Saliendo del sistema...\")\n",
    "else:\n",
    "    print(\"Este comando no se reconoce\")"
   ]
  },
  {
   "cell_type": "code",
   "execution_count": 184,
   "id": "5e567517-ec5a-42a5-8110-da885b901d20",
   "metadata": {},
   "outputs": [],
   "source": [
    "def saludar():\n",
    "    print(\"Hola! Este print se llama desde la funcion saludar()\")\n",
    "\n",
    "    saludar()\n",
    "    saludar()\n",
    "    saludar()"
   ]
  },
  {
   "cell_type": "code",
   "execution_count": 185,
   "id": "cc27aa7a-e633-4117-9b8c-13756e415fac",
   "metadata": {},
   "outputs": [],
   "source": [
    "def dibujar_tabla_del_5():\n",
    "    for i in range(11):\n",
    "        print(\"5 * {} = {}\".format(i,i*5))\n",
    "    dibujar_tabla_del_5()"
   ]
  },
  {
   "cell_type": "code",
   "execution_count": 188,
   "id": "312abf4f-5462-43a6-a2a1-c99ab49f769b",
   "metadata": {},
   "outputs": [
    {
     "name": "stdout",
     "output_type": "stream",
     "text": [
      "El valor de n es:10\n",
      "El valor de n es:  10\n"
     ]
    }
   ],
   "source": [
    "def test():\n",
    "    n = 10\n",
    "    print(\"El valor de n es:{}\".format(n))\n",
    "    print(\"El valor de n es: \",n)\n",
    "test()"
   ]
  },
  {
   "cell_type": "code",
   "execution_count": 189,
   "id": "0df7c8a2-dc6f-4aff-8eb7-b0112ea62ceb",
   "metadata": {},
   "outputs": [
    {
     "name": "stdout",
     "output_type": "stream",
     "text": [
      "11\n"
     ]
    }
   ],
   "source": [
    "print(n)"
   ]
  },
  {
   "cell_type": "code",
   "execution_count": 190,
   "id": "e5797c10-c8aa-455c-832a-c39bcd080df8",
   "metadata": {},
   "outputs": [
    {
     "name": "stdout",
     "output_type": "stream",
     "text": [
      "10\n"
     ]
    }
   ],
   "source": [
    "m = 10 \n",
    "def test():\n",
    "    print(m)\n",
    "test()"
   ]
  },
  {
   "cell_type": "code",
   "execution_count": 191,
   "id": "c0852acb-3b2a-40b7-a10f-556f94c9006e",
   "metadata": {},
   "outputs": [
    {
     "name": "stdout",
     "output_type": "stream",
     "text": [
      "10\n"
     ]
    }
   ],
   "source": [
    "def test():\n",
    "    print(l)\n",
    "l = 10\n",
    "test()"
   ]
  },
  {
   "cell_type": "code",
   "execution_count": 193,
   "id": "b2dae380-4b55-4f9c-8af9-2aef687a3f76",
   "metadata": {},
   "outputs": [
    {
     "name": "stdout",
     "output_type": "stream",
     "text": [
      "5\n",
      "5\n",
      "10\n",
      "3\n"
     ]
    }
   ],
   "source": [
    "def test():\n",
    "    o = 5\n",
    "    print(o)\n",
    "test()\n",
    "\n",
    "o = 10\n",
    "test()\n",
    "def test1():\n",
    "    o=3\n",
    "    print(o)\n",
    "\n",
    "print(o)\n",
    "test1()"
   ]
  },
  {
   "cell_type": "code",
   "execution_count": 194,
   "id": "8bf817c9-01ef-45d1-b222-0ce99607022d",
   "metadata": {},
   "outputs": [
    {
     "name": "stdout",
     "output_type": "stream",
     "text": [
      "5\n",
      "5\n",
      "5\n"
     ]
    }
   ],
   "source": [
    "def test():\n",
    "    global o\n",
    "    o = 5\n",
    "    print(o)\n",
    "test()\n",
    "\n",
    "o=10\n",
    "test()\n",
    "print(o)"
   ]
  },
  {
   "cell_type": "code",
   "execution_count": null,
   "id": "329e165a-bf02-4f68-bdd2-71083469b2a8",
   "metadata": {},
   "outputs": [],
   "source": []
  }
 ],
 "metadata": {
  "kernelspec": {
   "display_name": "Python 3 (ipykernel)",
   "language": "python",
   "name": "python3"
  },
  "language_info": {
   "codemirror_mode": {
    "name": "ipython",
    "version": 3
   },
   "file_extension": ".py",
   "mimetype": "text/x-python",
   "name": "python",
   "nbconvert_exporter": "python",
   "pygments_lexer": "ipython3",
   "version": "3.13.2"
  }
 },
 "nbformat": 4,
 "nbformat_minor": 5
}
